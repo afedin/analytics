{
 "cells": [
  {
   "cell_type": "code",
   "execution_count": 13,
   "metadata": {},
   "outputs": [],
   "source": [
    "import pandas as pd\n",
    "import sqlite3"
   ]
  },
  {
   "cell_type": "markdown",
   "metadata": {},
   "source": [
    "user_id: ID пользователя\n",
    "\n",
    "started_at: Дата и время начала поездки\n",
    "\n",
    "finished_at: Дата и время окончания поездки\n",
    "\n",
    "cost: Стоимость поездки в копейках\n",
    "\n",
    "paid_up: Статус оплаты поездки (True/False)\n",
    "\n",
    "has_penalty: Информация о штрафе (NaN/значение)\n",
    "\n",
    "platform: Платформа, с которой была совершена поездка\n",
    "\n",
    "region_id: ID региона"
   ]
  },
  {
   "cell_type": "code",
   "execution_count": 9,
   "metadata": {},
   "outputs": [
    {
     "data": {
      "text/html": [
       "<div>\n",
       "<style scoped>\n",
       "    .dataframe tbody tr th:only-of-type {\n",
       "        vertical-align: middle;\n",
       "    }\n",
       "\n",
       "    .dataframe tbody tr th {\n",
       "        vertical-align: top;\n",
       "    }\n",
       "\n",
       "    .dataframe thead th {\n",
       "        text-align: right;\n",
       "    }\n",
       "</style>\n",
       "<table border=\"1\" class=\"dataframe\">\n",
       "  <thead>\n",
       "    <tr style=\"text-align: right;\">\n",
       "      <th></th>\n",
       "      <th>user_id</th>\n",
       "      <th>started_at</th>\n",
       "      <th>finished_at</th>\n",
       "      <th>cost</th>\n",
       "      <th>paid_up</th>\n",
       "      <th>has_penalty</th>\n",
       "      <th>platform</th>\n",
       "      <th>region_id</th>\n",
       "    </tr>\n",
       "  </thead>\n",
       "  <tbody>\n",
       "    <tr>\n",
       "      <th>0</th>\n",
       "      <td>71506</td>\n",
       "      <td>2020-05-19 13:53:25.286+00</td>\n",
       "      <td>2020-05-19 14:13:25.62+00</td>\n",
       "      <td>19500</td>\n",
       "      <td>True</td>\n",
       "      <td>NaN</td>\n",
       "      <td>ANDROID</td>\n",
       "      <td>2</td>\n",
       "    </tr>\n",
       "    <tr>\n",
       "      <th>1</th>\n",
       "      <td>71506</td>\n",
       "      <td>2020-06-20 12:23:18.699+00</td>\n",
       "      <td>2020-06-20 12:50:35.368+00</td>\n",
       "      <td>24400</td>\n",
       "      <td>True</td>\n",
       "      <td>NaN</td>\n",
       "      <td>ANDROID</td>\n",
       "      <td>5</td>\n",
       "    </tr>\n",
       "    <tr>\n",
       "      <th>2</th>\n",
       "      <td>115258</td>\n",
       "      <td>2020-05-09 07:37:30.688+00</td>\n",
       "      <td>2020-05-09 08:36:48.3+00</td>\n",
       "      <td>43300</td>\n",
       "      <td>True</td>\n",
       "      <td>NaN</td>\n",
       "      <td>IOS</td>\n",
       "      <td>1</td>\n",
       "    </tr>\n",
       "    <tr>\n",
       "      <th>3</th>\n",
       "      <td>115258</td>\n",
       "      <td>2020-05-09 07:37:30.688+00</td>\n",
       "      <td>2020-05-09 08:36:48.3+00</td>\n",
       "      <td>43300</td>\n",
       "      <td>True</td>\n",
       "      <td>NaN</td>\n",
       "      <td>ANDROID</td>\n",
       "      <td>4</td>\n",
       "    </tr>\n",
       "    <tr>\n",
       "      <th>4</th>\n",
       "      <td>74999</td>\n",
       "      <td>2020-06-01 14:43:18.526+00</td>\n",
       "      <td>2020-06-01 15:08:46.742+00</td>\n",
       "      <td>18000</td>\n",
       "      <td>True</td>\n",
       "      <td>NaN</td>\n",
       "      <td>IOS</td>\n",
       "      <td>1</td>\n",
       "    </tr>\n",
       "  </tbody>\n",
       "</table>\n",
       "</div>"
      ],
      "text/plain": [
       "   user_id                  started_at                 finished_at   cost   \n",
       "0    71506  2020-05-19 13:53:25.286+00   2020-05-19 14:13:25.62+00  19500  \\\n",
       "1    71506  2020-06-20 12:23:18.699+00  2020-06-20 12:50:35.368+00  24400   \n",
       "2   115258  2020-05-09 07:37:30.688+00    2020-05-09 08:36:48.3+00  43300   \n",
       "3   115258  2020-05-09 07:37:30.688+00    2020-05-09 08:36:48.3+00  43300   \n",
       "4    74999  2020-06-01 14:43:18.526+00  2020-06-01 15:08:46.742+00  18000   \n",
       "\n",
       "   paid_up has_penalty platform  region_id  \n",
       "0     True         NaN  ANDROID          2  \n",
       "1     True         NaN  ANDROID          5  \n",
       "2     True         NaN      IOS          1  \n",
       "3     True         NaN  ANDROID          4  \n",
       "4     True         NaN      IOS          1  "
      ]
     },
     "execution_count": 9,
     "metadata": {},
     "output_type": "execute_result"
    }
   ],
   "source": [
    "#загрузка данных из csv файла\n",
    "file_path = 'Whoosh_Trips_sql_test.csv'\n",
    "whoosh_trips_data = pd.read_csv(file_path)\n",
    "whoosh_trips_data.head()"
   ]
  },
  {
   "cell_type": "code",
   "execution_count": 10,
   "metadata": {},
   "outputs": [],
   "source": [
    "#cоздание базы данных в памяти\n",
    "conn = sqlite3.connect(':memory:')"
   ]
  },
  {
   "cell_type": "code",
   "execution_count": 11,
   "metadata": {},
   "outputs": [
    {
     "data": {
      "text/plain": [
       "63459"
      ]
     },
     "execution_count": 11,
     "metadata": {},
     "output_type": "execute_result"
    }
   ],
   "source": [
    "#cоздание таблицы SQL и загрузка данных\n",
    "whoosh_trips_data.to_sql('whoosh_trips', conn, index=False, if_exists='replace')"
   ]
  },
  {
   "cell_type": "code",
   "execution_count": 12,
   "metadata": {},
   "outputs": [
    {
     "name": "stdout",
     "output_type": "stream",
     "text": [
      "   user_id                  started_at                 finished_at   cost   \n",
      "0    71506  2020-05-19 13:53:25.286+00   2020-05-19 14:13:25.62+00  19500  \\\n",
      "1    71506  2020-06-20 12:23:18.699+00  2020-06-20 12:50:35.368+00  24400   \n",
      "2   115258  2020-05-09 07:37:30.688+00    2020-05-09 08:36:48.3+00  43300   \n",
      "\n",
      "   paid_up has_penalty platform  region_id  \n",
      "0        1        None  ANDROID          2  \n",
      "1        1        None  ANDROID          5  \n",
      "2        1        None      IOS          1  \n"
     ]
    }
   ],
   "source": [
    "print(pd.read_sql('SELECT * FROM whoosh_trips limit 3', conn))"
   ]
  },
  {
   "cell_type": "markdown",
   "metadata": {},
   "source": [
    "Задача 1: Вывод размера среднего чека (в рублях) за все время.\n",
    "\n",
    "Вычислим среднюю стоимость поездок, конвертировав стоимость из копеек в рубли"
   ]
  },
  {
   "cell_type": "code",
   "execution_count": 40,
   "metadata": {},
   "outputs": [
    {
     "name": "stdout",
     "output_type": "stream",
     "text": [
      "   average_cost_rub\n",
      "0         202.16409\n"
     ]
    }
   ],
   "source": [
    "#средняя стоимость поездки в рублях\n",
    "query = \"\"\"\n",
    "SELECT AVG(cost / 100.0) AS average_cost_rub\n",
    "FROM whoosh_trips;\n",
    "\"\"\"\n",
    "result = pd.read_sql_query(query, conn)\n",
    "print(result)"
   ]
  },
  {
   "cell_type": "markdown",
   "metadata": {},
   "source": [
    "Задача 2: Вывод средней длительности поездки (в минутах) без штрафов (без penalty) для каждого региона (region_id) за все время.\n",
    "\n",
    "Вычислим среднюю длительность поездок в минутах для каждого региона, исключая поездки с штрафами. Длительность поездки будет рассчитана как разница между finished_at и started_at"
   ]
  },
  {
   "cell_type": "code",
   "execution_count": 24,
   "metadata": {},
   "outputs": [],
   "source": [
    "# Переводим столбцы с датами в формат datetime ISO8601\n",
    "whoosh_trips_data['started_at'] = pd.to_datetime(whoosh_trips_data['started_at'], format='ISO8601', errors='coerce')\n",
    "whoosh_trips_data['finished_at'] = pd.to_datetime(whoosh_trips_data['finished_at'], format='ISO8601', errors='coerce')\n",
    "# Перезаписываем данные обратно в SQL таблицу\n",
    "whoosh_trips_data.to_sql('whoosh_trips', conn, index=False, if_exists='replace')"
   ]
  },
  {
   "cell_type": "code",
   "execution_count": 26,
   "metadata": {},
   "outputs": [
    {
     "data": {
      "text/html": [
       "<div>\n",
       "<style scoped>\n",
       "    .dataframe tbody tr th:only-of-type {\n",
       "        vertical-align: middle;\n",
       "    }\n",
       "\n",
       "    .dataframe tbody tr th {\n",
       "        vertical-align: top;\n",
       "    }\n",
       "\n",
       "    .dataframe thead th {\n",
       "        text-align: right;\n",
       "    }\n",
       "</style>\n",
       "<table border=\"1\" class=\"dataframe\">\n",
       "  <thead>\n",
       "    <tr style=\"text-align: right;\">\n",
       "      <th></th>\n",
       "      <th>region_id</th>\n",
       "      <th>average_duration_minutes</th>\n",
       "    </tr>\n",
       "  </thead>\n",
       "  <tbody>\n",
       "    <tr>\n",
       "      <th>0</th>\n",
       "      <td>1</td>\n",
       "      <td>26.892942</td>\n",
       "    </tr>\n",
       "    <tr>\n",
       "      <th>1</th>\n",
       "      <td>2</td>\n",
       "      <td>26.698551</td>\n",
       "    </tr>\n",
       "    <tr>\n",
       "      <th>2</th>\n",
       "      <td>3</td>\n",
       "      <td>27.165049</td>\n",
       "    </tr>\n",
       "    <tr>\n",
       "      <th>3</th>\n",
       "      <td>4</td>\n",
       "      <td>27.194798</td>\n",
       "    </tr>\n",
       "    <tr>\n",
       "      <th>4</th>\n",
       "      <td>5</td>\n",
       "      <td>27.238643</td>\n",
       "    </tr>\n",
       "  </tbody>\n",
       "</table>\n",
       "</div>"
      ],
      "text/plain": [
       "   region_id  average_duration_minutes\n",
       "0          1                 26.892942\n",
       "1          2                 26.698551\n",
       "2          3                 27.165049\n",
       "3          4                 27.194798\n",
       "4          5                 27.238643"
      ]
     },
     "execution_count": 26,
     "metadata": {},
     "output_type": "execute_result"
    }
   ],
   "source": [
    "\n",
    "# Запрос на получение средней продолжительности поездки в минутах\n",
    "query_2 = \"\"\"\n",
    "SELECT region_id,\n",
    "       AVG((strftime('%s', finished_at) - strftime('%s', started_at)) / 60.0) AS average_duration_minutes\n",
    "FROM whoosh_trips\n",
    "WHERE has_penalty IS NULL\n",
    "GROUP BY region_id;\n",
    "\"\"\"\n",
    "\n",
    "average_duration_per_region = pd.read_sql(query_2, conn)\n",
    "average_duration_per_region\n"
   ]
  },
  {
   "cell_type": "markdown",
   "metadata": {},
   "source": [
    "Задача 3: Вывод ID пользователя с наибольшим количеством оплаченных поездок (paid_up) без штрафов (без penalty) и количество его поездок за все время.\n",
    "\n",
    "Для решения этой задачи, нужно сгруппировать данные по пользователям, посчитать количество оплаченных поездок без штрафов для каждого из них и выбрать пользователя с максимальным количеством таких поездок"
   ]
  },
  {
   "cell_type": "code",
   "execution_count": 38,
   "metadata": {},
   "outputs": [
    {
     "data": {
      "text/html": [
       "<div>\n",
       "<style scoped>\n",
       "    .dataframe tbody tr th:only-of-type {\n",
       "        vertical-align: middle;\n",
       "    }\n",
       "\n",
       "    .dataframe tbody tr th {\n",
       "        vertical-align: top;\n",
       "    }\n",
       "\n",
       "    .dataframe thead th {\n",
       "        text-align: right;\n",
       "    }\n",
       "</style>\n",
       "<table border=\"1\" class=\"dataframe\">\n",
       "  <thead>\n",
       "    <tr style=\"text-align: right;\">\n",
       "      <th></th>\n",
       "      <th>user_id</th>\n",
       "      <th>paid_trips_count</th>\n",
       "    </tr>\n",
       "  </thead>\n",
       "  <tbody>\n",
       "    <tr>\n",
       "      <th>0</th>\n",
       "      <td>58024</td>\n",
       "      <td>190</td>\n",
       "    </tr>\n",
       "  </tbody>\n",
       "</table>\n",
       "</div>"
      ],
      "text/plain": [
       "   user_id  paid_trips_count\n",
       "0    58024               190"
      ]
     },
     "execution_count": 38,
     "metadata": {},
     "output_type": "execute_result"
    }
   ],
   "source": [
    "#выводим id пользователя с наибольшим количеством оплаченных поездок\n",
    "query_3 = \"\"\"\n",
    "SELECT user_id,\n",
    "       COUNT(*) AS paid_trips_count\n",
    "FROM whoosh_trips\n",
    "WHERE paid_up = 1 AND has_penalty IS NULL\n",
    "GROUP BY user_id\n",
    "ORDER BY paid_trips_count DESC\n",
    "LIMIT 1;\n",
    "\"\"\"\n",
    "\n",
    "top_user_paid_trips = pd.read_sql(query_3, conn)\n",
    "top_user_paid_trips"
   ]
  },
  {
   "cell_type": "markdown",
   "metadata": {},
   "source": [
    "Задача 4: Вывод общей суммы в рублях по каждой последней оплаченной поездке всех уникальных пользователей.\n",
    "\n",
    "Для решения этой задачи, необходимо для каждого пользователя определить его последнюю оплаченную поездку и суммировать стоимости этих поездок"
   ]
  },
  {
   "cell_type": "code",
   "execution_count": 32,
   "metadata": {},
   "outputs": [
    {
     "data": {
      "text/plain": [
       "4345016.0"
      ]
     },
     "execution_count": 32,
     "metadata": {},
     "output_type": "execute_result"
    }
   ],
   "source": [
    "# вывод общей суммы по последним оплаченным поездкам в рублях\n",
    "query_4 = \"\"\"\n",
    "WITH LastPaidTrips AS (\n",
    "  SELECT user_id, MAX(started_at) AS last_trip_time\n",
    "  FROM whoosh_trips\n",
    "  WHERE paid_up = 1\n",
    "  GROUP BY user_id\n",
    ")\n",
    "SELECT SUM(t.cost / 100.0) AS total_last_trips_cost_rub\n",
    "FROM whoosh_trips AS t\n",
    "JOIN LastPaidTrips AS lpt ON t.user_id = lpt.user_id AND t.started_at = lpt.last_trip_time;\n",
    "\"\"\"\n",
    "\n",
    "total_last_trips_cost = pd.read_sql(query_4, conn)\n",
    "total_last_trips_cost_rub = total_last_trips_cost.at[0, 'total_last_trips_cost_rub']\n",
    "total_last_trips_cost_rub"
   ]
  },
  {
   "cell_type": "markdown",
   "metadata": {},
   "source": [
    "Задача 5: Вывод суммарной выручки в рублях от последних трёх поездок каждого уникального пользователя, совершившего не менее пяти поездок\n",
    "\n",
    "Для решения этой задачи, нам нужно сначала выявить пользователей, которые совершили не менее пяти поездок, затем для каждого такого пользователя найти последние три поездки и суммировать их стоимость"
   ]
  },
  {
   "cell_type": "code",
   "execution_count": 39,
   "metadata": {},
   "outputs": [
    {
     "data": {
      "text/plain": [
       "1963683.0"
      ]
     },
     "execution_count": 39,
     "metadata": {},
     "output_type": "execute_result"
    }
   ],
   "source": [
    "# вывод суммарной выручки от последних трех поездок каждого пользователя.\n",
    "query_5 = \"\"\"\n",
    "WITH RankedTrips AS (\n",
    "  SELECT user_id,\n",
    "         cost,\n",
    "         ROW_NUMBER() OVER (PARTITION BY user_id ORDER BY started_at DESC) AS trip_rank\n",
    "  FROM whoosh_trips\n",
    "),\n",
    "UserTripCounts AS (\n",
    "  SELECT user_id, COUNT(*) AS trip_count\n",
    "  FROM whoosh_trips\n",
    "  GROUP BY user_id\n",
    "  HAVING trip_count >= 5\n",
    ")\n",
    "SELECT SUM(cost / 100.0) AS total_revenue_last_3_trips_rub\n",
    "FROM RankedTrips\n",
    "WHERE trip_rank <= 3 AND user_id IN (SELECT user_id FROM UserTripCounts);\n",
    "\"\"\"\n",
    "\n",
    "total_revenue_last_3_trips = pd.read_sql(query_5, conn)\n",
    "total_revenue_last_3_trips_rub = total_revenue_last_3_trips.at[0, 'total_revenue_last_3_trips_rub']\n",
    "total_revenue_last_3_trips_rub"
   ]
  }
 ],
 "metadata": {
  "kernelspec": {
   "display_name": "Python 3",
   "language": "python",
   "name": "python3"
  },
  "language_info": {
   "codemirror_mode": {
    "name": "ipython",
    "version": 3
   },
   "file_extension": ".py",
   "mimetype": "text/x-python",
   "name": "python",
   "nbconvert_exporter": "python",
   "pygments_lexer": "ipython3",
   "version": "3.11.3"
  }
 },
 "nbformat": 4,
 "nbformat_minor": 2
}
